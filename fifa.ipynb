{
 "cells": [
  {
   "cell_type": "code",
   "execution_count": 1,
   "metadata": {},
   "outputs": [],
   "source": [
    "import numpy as np\n",
    "import pandas as pd\n",
    "import matplotlib.pyplot as plt\n",
    "from sklearn.model_selection import train_test_split\n",
    "from sklearn.preprocessing import LabelEncoder, MinMaxScaler\n",
    "from sklearn.model_selection import cross_val_score\n",
    "from sklearn.metrics import mean_squared_error"
   ]
  },
  {
   "cell_type": "code",
   "execution_count": 2,
   "metadata": {},
   "outputs": [],
   "source": [
    "data = pd.read_csv('./complete.csv')"
   ]
  },
  {
   "cell_type": "code",
   "execution_count": 3,
   "metadata": {},
   "outputs": [
    {
     "data": {
      "text/plain": [
       "True"
      ]
     },
     "execution_count": 3,
     "metadata": {},
     "output_type": "execute_result"
    }
   ],
   "source": [
    "data.isnull().values.any()"
   ]
  },
  {
   "cell_type": "code",
   "execution_count": 4,
   "metadata": {},
   "outputs": [],
   "source": [
    "drop_features = [\"ID\", \"name\", \"full_name\", \"club_logo\", \"birth_date\", \"flag\", \"photo\", \"preferred_foot\", \"eur_release_clause\", \"gk_diving\", \"gk_handling\", \"gk_kicking\", \"gk_positioning\", \"gk_reflexes\", \"1_on_1_rush_trait\", \"argues_with_officials_trait\", \"backs_into_player_trait\",\t\"diver_trait\", \"fan's_favourite_trait\",\t\"gk_flat_kick_trait\", \"gk_long_throw_trait\", \"gk_up_for_corners_trait\", \"leadership_trait\",\t\"one_club_player_trait\", \"puncher_trait\", \"rushes_out_of_goal_trait\", \"saves_with_feet_trait\", \"second_wind_trait\", \"selfish_trait\", \"tactician_speciality\", \"prefers_gk\"]"
   ]
  },
  {
   "cell_type": "code",
   "execution_count": 5,
   "metadata": {},
   "outputs": [],
   "source": [
    "data_1 = data[[item for item in list(data.columns) if item not in drop_features]]"
   ]
  },
  {
   "cell_type": "code",
   "execution_count": 6,
   "metadata": {},
   "outputs": [
    {
     "data": {
      "text/html": [
       "<div>\n",
       "<style scoped>\n",
       "    .dataframe tbody tr th:only-of-type {\n",
       "        vertical-align: middle;\n",
       "    }\n",
       "\n",
       "    .dataframe tbody tr th {\n",
       "        vertical-align: top;\n",
       "    }\n",
       "\n",
       "    .dataframe thead th {\n",
       "        text-align: right;\n",
       "    }\n",
       "</style>\n",
       "<table border=\"1\" class=\"dataframe\">\n",
       "  <thead>\n",
       "    <tr style=\"text-align: right;\">\n",
       "      <th></th>\n",
       "      <th>club</th>\n",
       "      <th>special</th>\n",
       "      <th>age</th>\n",
       "      <th>league</th>\n",
       "      <th>height_cm</th>\n",
       "      <th>weight_kg</th>\n",
       "      <th>body_type</th>\n",
       "      <th>real_face</th>\n",
       "      <th>nationality</th>\n",
       "      <th>eur_value</th>\n",
       "      <th>...</th>\n",
       "      <th>prefers_cdm</th>\n",
       "      <th>prefers_cb</th>\n",
       "      <th>prefers_lb</th>\n",
       "      <th>prefers_lwb</th>\n",
       "      <th>prefers_ls</th>\n",
       "      <th>prefers_lf</th>\n",
       "      <th>prefers_lam</th>\n",
       "      <th>prefers_lcm</th>\n",
       "      <th>prefers_ldm</th>\n",
       "      <th>prefers_lcb</th>\n",
       "    </tr>\n",
       "  </thead>\n",
       "  <tbody>\n",
       "    <tr>\n",
       "      <th>0</th>\n",
       "      <td>Real Madrid CF</td>\n",
       "      <td>2228</td>\n",
       "      <td>32</td>\n",
       "      <td>Spanish Primera División</td>\n",
       "      <td>185.0</td>\n",
       "      <td>80.0</td>\n",
       "      <td>C. Ronaldo</td>\n",
       "      <td>True</td>\n",
       "      <td>Portugal</td>\n",
       "      <td>95500000.0</td>\n",
       "      <td>...</td>\n",
       "      <td>False</td>\n",
       "      <td>False</td>\n",
       "      <td>False</td>\n",
       "      <td>False</td>\n",
       "      <td>False</td>\n",
       "      <td>False</td>\n",
       "      <td>False</td>\n",
       "      <td>False</td>\n",
       "      <td>False</td>\n",
       "      <td>False</td>\n",
       "    </tr>\n",
       "    <tr>\n",
       "      <th>1</th>\n",
       "      <td>FC Barcelona</td>\n",
       "      <td>2158</td>\n",
       "      <td>30</td>\n",
       "      <td>Spanish Primera División</td>\n",
       "      <td>170.0</td>\n",
       "      <td>72.0</td>\n",
       "      <td>Messi</td>\n",
       "      <td>True</td>\n",
       "      <td>Argentina</td>\n",
       "      <td>105000000.0</td>\n",
       "      <td>...</td>\n",
       "      <td>False</td>\n",
       "      <td>False</td>\n",
       "      <td>False</td>\n",
       "      <td>False</td>\n",
       "      <td>False</td>\n",
       "      <td>False</td>\n",
       "      <td>False</td>\n",
       "      <td>False</td>\n",
       "      <td>False</td>\n",
       "      <td>False</td>\n",
       "    </tr>\n",
       "    <tr>\n",
       "      <th>2</th>\n",
       "      <td>Paris Saint-Germain</td>\n",
       "      <td>2100</td>\n",
       "      <td>25</td>\n",
       "      <td>French Ligue 1</td>\n",
       "      <td>175.0</td>\n",
       "      <td>68.0</td>\n",
       "      <td>Neymar</td>\n",
       "      <td>True</td>\n",
       "      <td>Brazil</td>\n",
       "      <td>123000000.0</td>\n",
       "      <td>...</td>\n",
       "      <td>False</td>\n",
       "      <td>False</td>\n",
       "      <td>False</td>\n",
       "      <td>False</td>\n",
       "      <td>False</td>\n",
       "      <td>False</td>\n",
       "      <td>False</td>\n",
       "      <td>False</td>\n",
       "      <td>False</td>\n",
       "      <td>False</td>\n",
       "    </tr>\n",
       "    <tr>\n",
       "      <th>3</th>\n",
       "      <td>FC Barcelona</td>\n",
       "      <td>2291</td>\n",
       "      <td>30</td>\n",
       "      <td>Spanish Primera División</td>\n",
       "      <td>182.0</td>\n",
       "      <td>86.0</td>\n",
       "      <td>Normal</td>\n",
       "      <td>True</td>\n",
       "      <td>Uruguay</td>\n",
       "      <td>97000000.0</td>\n",
       "      <td>...</td>\n",
       "      <td>False</td>\n",
       "      <td>False</td>\n",
       "      <td>False</td>\n",
       "      <td>False</td>\n",
       "      <td>False</td>\n",
       "      <td>False</td>\n",
       "      <td>False</td>\n",
       "      <td>False</td>\n",
       "      <td>False</td>\n",
       "      <td>False</td>\n",
       "    </tr>\n",
       "    <tr>\n",
       "      <th>4</th>\n",
       "      <td>FC Bayern Munich</td>\n",
       "      <td>1493</td>\n",
       "      <td>31</td>\n",
       "      <td>German Bundesliga</td>\n",
       "      <td>193.0</td>\n",
       "      <td>92.0</td>\n",
       "      <td>Normal</td>\n",
       "      <td>True</td>\n",
       "      <td>Germany</td>\n",
       "      <td>61000000.0</td>\n",
       "      <td>...</td>\n",
       "      <td>False</td>\n",
       "      <td>False</td>\n",
       "      <td>False</td>\n",
       "      <td>False</td>\n",
       "      <td>False</td>\n",
       "      <td>False</td>\n",
       "      <td>False</td>\n",
       "      <td>False</td>\n",
       "      <td>False</td>\n",
       "      <td>False</td>\n",
       "    </tr>\n",
       "  </tbody>\n",
       "</table>\n",
       "<p>5 rows × 154 columns</p>\n",
       "</div>"
      ],
      "text/plain": [
       "                  club  special  age                    league  height_cm  \\\n",
       "0       Real Madrid CF     2228   32  Spanish Primera División      185.0   \n",
       "1         FC Barcelona     2158   30  Spanish Primera División      170.0   \n",
       "2  Paris Saint-Germain     2100   25            French Ligue 1      175.0   \n",
       "3         FC Barcelona     2291   30  Spanish Primera División      182.0   \n",
       "4     FC Bayern Munich     1493   31         German Bundesliga      193.0   \n",
       "\n",
       "   weight_kg   body_type  real_face nationality    eur_value     ...       \\\n",
       "0       80.0  C. Ronaldo       True    Portugal   95500000.0     ...        \n",
       "1       72.0       Messi       True   Argentina  105000000.0     ...        \n",
       "2       68.0      Neymar       True      Brazil  123000000.0     ...        \n",
       "3       86.0      Normal       True     Uruguay   97000000.0     ...        \n",
       "4       92.0      Normal       True     Germany   61000000.0     ...        \n",
       "\n",
       "   prefers_cdm  prefers_cb  prefers_lb  prefers_lwb  prefers_ls  prefers_lf  \\\n",
       "0        False       False       False        False       False       False   \n",
       "1        False       False       False        False       False       False   \n",
       "2        False       False       False        False       False       False   \n",
       "3        False       False       False        False       False       False   \n",
       "4        False       False       False        False       False       False   \n",
       "\n",
       "   prefers_lam  prefers_lcm  prefers_ldm  prefers_lcb  \n",
       "0        False        False        False        False  \n",
       "1        False        False        False        False  \n",
       "2        False        False        False        False  \n",
       "3        False        False        False        False  \n",
       "4        False        False        False        False  \n",
       "\n",
       "[5 rows x 154 columns]"
      ]
     },
     "execution_count": 6,
     "metadata": {},
     "output_type": "execute_result"
    }
   ],
   "source": [
    "data_1.head()"
   ]
  },
  {
   "cell_type": "code",
   "execution_count": 7,
   "metadata": {},
   "outputs": [
    {
     "name": "stdout",
     "output_type": "stream",
     "text": [
      "club\n",
      "league\n",
      "rs\n",
      "rw\n",
      "rf\n",
      "ram\n",
      "rcm\n",
      "rm\n",
      "rdm\n",
      "rcb\n",
      "rb\n",
      "rwb\n",
      "st\n",
      "lw\n",
      "cf\n",
      "cam\n",
      "cm\n",
      "lm\n",
      "cdm\n",
      "cb\n",
      "lb\n",
      "lwb\n",
      "ls\n",
      "lf\n",
      "lam\n",
      "lcm\n",
      "ldm\n",
      "lcb\n",
      "gk\n"
     ]
    }
   ],
   "source": [
    "for i in list(data_1.columns):\n",
    "    if data_1[i].isnull().values.any():\n",
    "        print(i)"
   ]
  },
  {
   "cell_type": "code",
   "execution_count": 8,
   "metadata": {},
   "outputs": [
    {
     "data": {
      "text/html": [
       "<div>\n",
       "<style scoped>\n",
       "    .dataframe tbody tr th:only-of-type {\n",
       "        vertical-align: middle;\n",
       "    }\n",
       "\n",
       "    .dataframe tbody tr th {\n",
       "        vertical-align: top;\n",
       "    }\n",
       "\n",
       "    .dataframe thead th {\n",
       "        text-align: right;\n",
       "    }\n",
       "</style>\n",
       "<table border=\"1\" class=\"dataframe\">\n",
       "  <thead>\n",
       "    <tr style=\"text-align: right;\">\n",
       "      <th></th>\n",
       "      <th>club</th>\n",
       "      <th>special</th>\n",
       "      <th>age</th>\n",
       "      <th>league</th>\n",
       "      <th>height_cm</th>\n",
       "      <th>weight_kg</th>\n",
       "      <th>body_type</th>\n",
       "      <th>real_face</th>\n",
       "      <th>nationality</th>\n",
       "      <th>eur_value</th>\n",
       "      <th>...</th>\n",
       "      <th>prefers_cdm</th>\n",
       "      <th>prefers_cb</th>\n",
       "      <th>prefers_lb</th>\n",
       "      <th>prefers_lwb</th>\n",
       "      <th>prefers_ls</th>\n",
       "      <th>prefers_lf</th>\n",
       "      <th>prefers_lam</th>\n",
       "      <th>prefers_lcm</th>\n",
       "      <th>prefers_ldm</th>\n",
       "      <th>prefers_lcb</th>\n",
       "    </tr>\n",
       "  </thead>\n",
       "  <tbody>\n",
       "    <tr>\n",
       "      <th>163</th>\n",
       "      <td>NaN</td>\n",
       "      <td>1961</td>\n",
       "      <td>25</td>\n",
       "      <td>NaN</td>\n",
       "      <td>179.0</td>\n",
       "      <td>67.0</td>\n",
       "      <td>Lean</td>\n",
       "      <td>True</td>\n",
       "      <td>Brazil</td>\n",
       "      <td>0.0</td>\n",
       "      <td>...</td>\n",
       "      <td>False</td>\n",
       "      <td>False</td>\n",
       "      <td>False</td>\n",
       "      <td>False</td>\n",
       "      <td>False</td>\n",
       "      <td>False</td>\n",
       "      <td>False</td>\n",
       "      <td>False</td>\n",
       "      <td>False</td>\n",
       "      <td>False</td>\n",
       "    </tr>\n",
       "    <tr>\n",
       "      <th>168</th>\n",
       "      <td>NaN</td>\n",
       "      <td>2174</td>\n",
       "      <td>28</td>\n",
       "      <td>NaN</td>\n",
       "      <td>175.0</td>\n",
       "      <td>69.0</td>\n",
       "      <td>Normal</td>\n",
       "      <td>False</td>\n",
       "      <td>Portugal</td>\n",
       "      <td>0.0</td>\n",
       "      <td>...</td>\n",
       "      <td>True</td>\n",
       "      <td>False</td>\n",
       "      <td>False</td>\n",
       "      <td>False</td>\n",
       "      <td>False</td>\n",
       "      <td>False</td>\n",
       "      <td>False</td>\n",
       "      <td>False</td>\n",
       "      <td>False</td>\n",
       "      <td>False</td>\n",
       "    </tr>\n",
       "    <tr>\n",
       "      <th>271</th>\n",
       "      <td>NaN</td>\n",
       "      <td>2143</td>\n",
       "      <td>28</td>\n",
       "      <td>NaN</td>\n",
       "      <td>186.0</td>\n",
       "      <td>73.0</td>\n",
       "      <td>Normal</td>\n",
       "      <td>False</td>\n",
       "      <td>Belgium</td>\n",
       "      <td>0.0</td>\n",
       "      <td>...</td>\n",
       "      <td>True</td>\n",
       "      <td>False</td>\n",
       "      <td>False</td>\n",
       "      <td>False</td>\n",
       "      <td>False</td>\n",
       "      <td>False</td>\n",
       "      <td>False</td>\n",
       "      <td>False</td>\n",
       "      <td>False</td>\n",
       "      <td>False</td>\n",
       "    </tr>\n",
       "    <tr>\n",
       "      <th>480</th>\n",
       "      <td>NaN</td>\n",
       "      <td>1841</td>\n",
       "      <td>30</td>\n",
       "      <td>NaN</td>\n",
       "      <td>184.0</td>\n",
       "      <td>74.0</td>\n",
       "      <td>Lean</td>\n",
       "      <td>True</td>\n",
       "      <td>Sweden</td>\n",
       "      <td>0.0</td>\n",
       "      <td>...</td>\n",
       "      <td>False</td>\n",
       "      <td>False</td>\n",
       "      <td>False</td>\n",
       "      <td>False</td>\n",
       "      <td>False</td>\n",
       "      <td>False</td>\n",
       "      <td>False</td>\n",
       "      <td>False</td>\n",
       "      <td>False</td>\n",
       "      <td>False</td>\n",
       "    </tr>\n",
       "    <tr>\n",
       "      <th>494</th>\n",
       "      <td>NaN</td>\n",
       "      <td>2069</td>\n",
       "      <td>29</td>\n",
       "      <td>NaN</td>\n",
       "      <td>186.0</td>\n",
       "      <td>86.0</td>\n",
       "      <td>Lean</td>\n",
       "      <td>False</td>\n",
       "      <td>Brazil</td>\n",
       "      <td>0.0</td>\n",
       "      <td>...</td>\n",
       "      <td>True</td>\n",
       "      <td>False</td>\n",
       "      <td>False</td>\n",
       "      <td>False</td>\n",
       "      <td>False</td>\n",
       "      <td>False</td>\n",
       "      <td>False</td>\n",
       "      <td>False</td>\n",
       "      <td>False</td>\n",
       "      <td>False</td>\n",
       "    </tr>\n",
       "  </tbody>\n",
       "</table>\n",
       "<p>5 rows × 154 columns</p>\n",
       "</div>"
      ],
      "text/plain": [
       "    club  special  age league  height_cm  weight_kg body_type  real_face  \\\n",
       "163  NaN     1961   25    NaN      179.0       67.0      Lean       True   \n",
       "168  NaN     2174   28    NaN      175.0       69.0    Normal      False   \n",
       "271  NaN     2143   28    NaN      186.0       73.0    Normal      False   \n",
       "480  NaN     1841   30    NaN      184.0       74.0      Lean       True   \n",
       "494  NaN     2069   29    NaN      186.0       86.0      Lean      False   \n",
       "\n",
       "    nationality  eur_value     ...       prefers_cdm  prefers_cb  prefers_lb  \\\n",
       "163      Brazil        0.0     ...             False       False       False   \n",
       "168    Portugal        0.0     ...              True       False       False   \n",
       "271     Belgium        0.0     ...              True       False       False   \n",
       "480      Sweden        0.0     ...             False       False       False   \n",
       "494      Brazil        0.0     ...              True       False       False   \n",
       "\n",
       "     prefers_lwb  prefers_ls  prefers_lf  prefers_lam  prefers_lcm  \\\n",
       "163        False       False       False        False        False   \n",
       "168        False       False       False        False        False   \n",
       "271        False       False       False        False        False   \n",
       "480        False       False       False        False        False   \n",
       "494        False       False       False        False        False   \n",
       "\n",
       "     prefers_ldm  prefers_lcb  \n",
       "163        False        False  \n",
       "168        False        False  \n",
       "271        False        False  \n",
       "480        False        False  \n",
       "494        False        False  \n",
       "\n",
       "[5 rows x 154 columns]"
      ]
     },
     "execution_count": 8,
     "metadata": {},
     "output_type": "execute_result"
    }
   ],
   "source": [
    "data_1[data.club.isnull()].head()"
   ]
  },
  {
   "cell_type": "code",
   "execution_count": 9,
   "metadata": {},
   "outputs": [
    {
     "name": "stderr",
     "output_type": "stream",
     "text": [
      "/Users/vibhavagarwal/miniconda2/envs/deeplearning/lib/python3.5/site-packages/pandas/core/generic.py:5434: SettingWithCopyWarning: \n",
      "A value is trying to be set on a copy of a slice from a DataFrame\n",
      "\n",
      "See the caveats in the documentation: http://pandas.pydata.org/pandas-docs/stable/indexing.html#indexing-view-versus-copy\n",
      "  self._update_inplace(new_data)\n"
     ]
    }
   ],
   "source": [
    "# club and league NaN values are asigned \"Unknown\"\n",
    "data_1.club.fillna(\"Unknown\", inplace=True)\n",
    "data_1.league.fillna(\"Unknown\", inplace=True)"
   ]
  },
  {
   "cell_type": "code",
   "execution_count": 10,
   "metadata": {},
   "outputs": [
    {
     "data": {
      "text/plain": [
       "False"
      ]
     },
     "execution_count": 10,
     "metadata": {},
     "output_type": "execute_result"
    }
   ],
   "source": [
    "data_1.club.isnull().values.any()"
   ]
  },
  {
   "cell_type": "code",
   "execution_count": 11,
   "metadata": {},
   "outputs": [],
   "source": [
    "index = data_1[~data_1.gk.isnull()].index"
   ]
  },
  {
   "cell_type": "code",
   "execution_count": 12,
   "metadata": {},
   "outputs": [],
   "source": [
    "data_2 = data_1.drop(index=index,columns=[\"gk\"])"
   ]
  },
  {
   "cell_type": "code",
   "execution_count": 13,
   "metadata": {},
   "outputs": [
    {
     "data": {
      "text/plain": [
       "(15973, 153)"
      ]
     },
     "execution_count": 13,
     "metadata": {},
     "output_type": "execute_result"
    }
   ],
   "source": [
    "data_2.shape"
   ]
  },
  {
   "cell_type": "code",
   "execution_count": 14,
   "metadata": {},
   "outputs": [],
   "source": [
    "tf_col = [\"real_face\", \"acrobatic_clearance_trait\", \"avoids_using_weaker_foot_trait\", \"bicycle_kicks_trait\", \"cautious_with_crosses_trait\", \"chip_shot_trait\", \"chipped_penalty_trait\", \"comes_for_crosses_trait\", \"corner_specialist_trait\", \"dives_into_tackles_trait\", \"diving_header_trait\", \"driven_pass_trait\", \"early_crosser_trait\", \"fancy_flicks_trait\", \"finesse_shot_trait\", \"flair_trait\", \"flair_passes_trait\", \"giant_throw_in_trait\", \"inflexible_trait\", \"injury_free_trait\", \"injury_prone_trait\", \"long_passer_trait\", \"long_shot_taker_trait\", \"long_throw_in_trait\", \"outside_foot_shot_trait\", \"playmaker_trait\", \"power_free_kick_trait\", \"power_header_trait\", \"skilled_dribbling_trait\", \"stutter_penalty_trait\", \"swerve_pass_trait\", \"takes_finesse_free_kicks_trait\", \"target_forward_trait\", \"team_player_trait\", \"technical_dribbler_trait\", \"tries_to_beat_defensive_line_trait\", \"poacher_speciality\", \"speedster_speciality\", \"aerial_threat_speciality\", \"dribbler_speciality\", \"playmaker_speciality\", \"engine_speciality\", \"distance_shooter_speciality\", \"crosser_speciality\", \"free_kick_specialist_speciality\", \"tackling_speciality\", \"acrobat_speciality\", \"strength_speciality\", \"clinical_finisher_speciality\", \"prefers_rs\", \"prefers_rw\", \"prefers_rf\", \"prefers_ram\", \"prefers_rcm\", \"prefers_rm\", \"prefers_rdm\", \"prefers_rcb\", \"prefers_rb\", \"prefers_rwb\", \"prefers_st\", \"prefers_lw\", \"prefers_cf\", \"prefers_cam\", \"prefers_cm\", \"prefers_lm\", \"prefers_cdm\", \"prefers_cb\", \"prefers_lb\", \"prefers_lwb\", \"prefers_ls\", \"prefers_lf\", \"prefers_lam\", \"prefers_lcm\", \"prefers_ldm\", \"prefers_lcb\"]"
   ]
  },
  {
   "cell_type": "code",
   "execution_count": 15,
   "metadata": {},
   "outputs": [],
   "source": [
    "for i in tf_col:\n",
    "    data_2[i] = data_2[i].apply(lambda x: 1 if x else 0)"
   ]
  },
  {
   "cell_type": "code",
   "execution_count": 16,
   "metadata": {},
   "outputs": [
    {
     "data": {
      "text/plain": [
       "0    14854\n",
       "1     1119\n",
       "Name: real_face, dtype: int64"
      ]
     },
     "execution_count": 16,
     "metadata": {},
     "output_type": "execute_result"
    }
   ],
   "source": [
    "data_2.real_face.value_counts()"
   ]
  },
  {
   "cell_type": "code",
   "execution_count": 17,
   "metadata": {},
   "outputs": [],
   "source": [
    "labelEncoder = LabelEncoder()"
   ]
  },
  {
   "cell_type": "code",
   "execution_count": 18,
   "metadata": {},
   "outputs": [],
   "source": [
    "data_2['club_le'] = labelEncoder.fit_transform(data_2.club)\n",
    "data_2['league_le'] = labelEncoder.fit_transform(data_2.league)\n",
    "data_2['body_type_le'] = labelEncoder.fit_transform(data_2.body_type)\n",
    "data_2['nationality_le'] = labelEncoder.fit_transform(data_2.nationality)\n",
    "data_2['work_rate_att_le'] = labelEncoder.fit_transform(data_2.work_rate_att)\n",
    "data_2['work_rate_def_le'] = labelEncoder.fit_transform(data_2.work_rate_def)"
   ]
  },
  {
   "cell_type": "code",
   "execution_count": 19,
   "metadata": {},
   "outputs": [],
   "source": [
    "data_2['prefers_pos_sum'] = data_2.prefers_rs + data_2.prefers_rw + data_2.prefers_rf + data_2.prefers_ram + data_2.prefers_rcm + data_2.prefers_rm + data_2.prefers_rdm + data_2.prefers_rcb + data_2.prefers_rb + data_2.prefers_rwb + data_2.prefers_st + data_2.prefers_lw + data_2.prefers_cf + data_2.prefers_cam + data_2.prefers_cm + data_2.prefers_lm + data_2.prefers_cdm + data_2.prefers_cb + data_2.prefers_lb + data_2.prefers_lwb + data_2.prefers_ls + data_2.prefers_lf + data_2.prefers_lam + data_2.prefers_lcm + data_2.prefers_ldm + data_2.prefers_lcb"
   ]
  },
  {
   "cell_type": "code",
   "execution_count": 20,
   "metadata": {},
   "outputs": [],
   "source": [
    "data_2['traits_sum'] = data_2.acrobatic_clearance_trait + data_2.avoids_using_weaker_foot_trait + data_2.bicycle_kicks_trait + data_2.cautious_with_crosses_trait + data_2.chip_shot_trait + data_2.chipped_penalty_trait + data_2.comes_for_crosses_trait + data_2.corner_specialist_trait + data_2.dives_into_tackles_trait + data_2.diving_header_trait + data_2.driven_pass_trait + data_2.early_crosser_trait + data_2.fancy_flicks_trait + data_2.finesse_shot_trait + data_2.flair_trait + data_2.flair_passes_trait + data_2.giant_throw_in_trait + data_2.inflexible_trait + data_2.injury_free_trait + data_2.injury_prone_trait + data_2.long_passer_trait + data_2.long_shot_taker_trait + data_2.long_throw_in_trait + data_2.outside_foot_shot_trait + data_2.playmaker_trait + data_2.power_free_kick_trait + data_2.power_header_trait + data_2.skilled_dribbling_trait + data_2.stutter_penalty_trait + data_2.swerve_pass_trait + data_2.takes_finesse_free_kicks_trait + data_2.target_forward_trait + data_2.team_player_trait + data_2.technical_dribbler_trait + data_2.tries_to_beat_defensive_line_trait + data_2.poacher_speciality + data_2.speedster_speciality + data_2.aerial_threat_speciality + data_2.dribbler_speciality + data_2.playmaker_speciality + data_2.engine_speciality + data_2.distance_shooter_speciality + data_2.crosser_speciality + data_2.free_kick_specialist_speciality + data_2.tackling_speciality + data_2.acrobat_speciality + data_2.strength_speciality + data_2.clinical_finisher_speciality"
   ]
  },
  {
   "cell_type": "code",
   "execution_count": 21,
   "metadata": {},
   "outputs": [
    {
     "data": {
      "text/html": [
       "<div>\n",
       "<style scoped>\n",
       "    .dataframe tbody tr th:only-of-type {\n",
       "        vertical-align: middle;\n",
       "    }\n",
       "\n",
       "    .dataframe tbody tr th {\n",
       "        vertical-align: top;\n",
       "    }\n",
       "\n",
       "    .dataframe thead th {\n",
       "        text-align: right;\n",
       "    }\n",
       "</style>\n",
       "<table border=\"1\" class=\"dataframe\">\n",
       "  <thead>\n",
       "    <tr style=\"text-align: right;\">\n",
       "      <th></th>\n",
       "      <th>club</th>\n",
       "      <th>special</th>\n",
       "      <th>age</th>\n",
       "      <th>league</th>\n",
       "      <th>height_cm</th>\n",
       "      <th>weight_kg</th>\n",
       "      <th>body_type</th>\n",
       "      <th>real_face</th>\n",
       "      <th>nationality</th>\n",
       "      <th>eur_value</th>\n",
       "      <th>...</th>\n",
       "      <th>prefers_ldm</th>\n",
       "      <th>prefers_lcb</th>\n",
       "      <th>club_le</th>\n",
       "      <th>league_le</th>\n",
       "      <th>body_type_le</th>\n",
       "      <th>nationality_le</th>\n",
       "      <th>work_rate_att_le</th>\n",
       "      <th>work_rate_def_le</th>\n",
       "      <th>prefers_pos_sum</th>\n",
       "      <th>traits_sum</th>\n",
       "    </tr>\n",
       "  </thead>\n",
       "  <tbody>\n",
       "    <tr>\n",
       "      <th>0</th>\n",
       "      <td>Real Madrid CF</td>\n",
       "      <td>2228</td>\n",
       "      <td>32</td>\n",
       "      <td>Spanish Primera División</td>\n",
       "      <td>185.0</td>\n",
       "      <td>80.0</td>\n",
       "      <td>C. Ronaldo</td>\n",
       "      <td>1</td>\n",
       "      <td>Portugal</td>\n",
       "      <td>95500000.0</td>\n",
       "      <td>...</td>\n",
       "      <td>0</td>\n",
       "      <td>0</td>\n",
       "      <td>466</td>\n",
       "      <td>34</td>\n",
       "      <td>1</td>\n",
       "      <td>118</td>\n",
       "      <td>0</td>\n",
       "      <td>1</td>\n",
       "      <td>2</td>\n",
       "      <td>9</td>\n",
       "    </tr>\n",
       "    <tr>\n",
       "      <th>1</th>\n",
       "      <td>FC Barcelona</td>\n",
       "      <td>2158</td>\n",
       "      <td>30</td>\n",
       "      <td>Spanish Primera División</td>\n",
       "      <td>170.0</td>\n",
       "      <td>72.0</td>\n",
       "      <td>Messi</td>\n",
       "      <td>1</td>\n",
       "      <td>Argentina</td>\n",
       "      <td>105000000.0</td>\n",
       "      <td>...</td>\n",
       "      <td>0</td>\n",
       "      <td>0</td>\n",
       "      <td>219</td>\n",
       "      <td>34</td>\n",
       "      <td>3</td>\n",
       "      <td>5</td>\n",
       "      <td>2</td>\n",
       "      <td>2</td>\n",
       "      <td>3</td>\n",
       "      <td>9</td>\n",
       "    </tr>\n",
       "    <tr>\n",
       "      <th>2</th>\n",
       "      <td>Paris Saint-Germain</td>\n",
       "      <td>2100</td>\n",
       "      <td>25</td>\n",
       "      <td>French Ligue 1</td>\n",
       "      <td>175.0</td>\n",
       "      <td>68.0</td>\n",
       "      <td>Neymar</td>\n",
       "      <td>1</td>\n",
       "      <td>Brazil</td>\n",
       "      <td>123000000.0</td>\n",
       "      <td>...</td>\n",
       "      <td>0</td>\n",
       "      <td>0</td>\n",
       "      <td>432</td>\n",
       "      <td>14</td>\n",
       "      <td>4</td>\n",
       "      <td>18</td>\n",
       "      <td>0</td>\n",
       "      <td>2</td>\n",
       "      <td>1</td>\n",
       "      <td>7</td>\n",
       "    </tr>\n",
       "    <tr>\n",
       "      <th>3</th>\n",
       "      <td>FC Barcelona</td>\n",
       "      <td>2291</td>\n",
       "      <td>30</td>\n",
       "      <td>Spanish Primera División</td>\n",
       "      <td>182.0</td>\n",
       "      <td>86.0</td>\n",
       "      <td>Normal</td>\n",
       "      <td>1</td>\n",
       "      <td>Uruguay</td>\n",
       "      <td>97000000.0</td>\n",
       "      <td>...</td>\n",
       "      <td>0</td>\n",
       "      <td>0</td>\n",
       "      <td>219</td>\n",
       "      <td>34</td>\n",
       "      <td>5</td>\n",
       "      <td>154</td>\n",
       "      <td>0</td>\n",
       "      <td>2</td>\n",
       "      <td>1</td>\n",
       "      <td>4</td>\n",
       "    </tr>\n",
       "    <tr>\n",
       "      <th>5</th>\n",
       "      <td>FC Bayern Munich</td>\n",
       "      <td>2146</td>\n",
       "      <td>28</td>\n",
       "      <td>German Bundesliga</td>\n",
       "      <td>185.0</td>\n",
       "      <td>79.0</td>\n",
       "      <td>Normal</td>\n",
       "      <td>1</td>\n",
       "      <td>Poland</td>\n",
       "      <td>92000000.0</td>\n",
       "      <td>...</td>\n",
       "      <td>0</td>\n",
       "      <td>0</td>\n",
       "      <td>222</td>\n",
       "      <td>18</td>\n",
       "      <td>5</td>\n",
       "      <td>117</td>\n",
       "      <td>0</td>\n",
       "      <td>2</td>\n",
       "      <td>1</td>\n",
       "      <td>4</td>\n",
       "    </tr>\n",
       "  </tbody>\n",
       "</table>\n",
       "<p>5 rows × 161 columns</p>\n",
       "</div>"
      ],
      "text/plain": [
       "                  club  special  age                    league  height_cm  \\\n",
       "0       Real Madrid CF     2228   32  Spanish Primera División      185.0   \n",
       "1         FC Barcelona     2158   30  Spanish Primera División      170.0   \n",
       "2  Paris Saint-Germain     2100   25            French Ligue 1      175.0   \n",
       "3         FC Barcelona     2291   30  Spanish Primera División      182.0   \n",
       "5     FC Bayern Munich     2146   28         German Bundesliga      185.0   \n",
       "\n",
       "   weight_kg   body_type  real_face nationality    eur_value     ...      \\\n",
       "0       80.0  C. Ronaldo          1    Portugal   95500000.0     ...       \n",
       "1       72.0       Messi          1   Argentina  105000000.0     ...       \n",
       "2       68.0      Neymar          1      Brazil  123000000.0     ...       \n",
       "3       86.0      Normal          1     Uruguay   97000000.0     ...       \n",
       "5       79.0      Normal          1      Poland   92000000.0     ...       \n",
       "\n",
       "   prefers_ldm  prefers_lcb  club_le  league_le  body_type_le  nationality_le  \\\n",
       "0            0            0      466         34             1             118   \n",
       "1            0            0      219         34             3               5   \n",
       "2            0            0      432         14             4              18   \n",
       "3            0            0      219         34             5             154   \n",
       "5            0            0      222         18             5             117   \n",
       "\n",
       "   work_rate_att_le  work_rate_def_le  prefers_pos_sum  traits_sum  \n",
       "0                 0                 1                2           9  \n",
       "1                 2                 2                3           9  \n",
       "2                 0                 2                1           7  \n",
       "3                 0                 2                1           4  \n",
       "5                 0                 2                1           4  \n",
       "\n",
       "[5 rows x 161 columns]"
      ]
     },
     "execution_count": 21,
     "metadata": {},
     "output_type": "execute_result"
    }
   ],
   "source": [
    "data_2.head()"
   ]
  },
  {
   "cell_type": "code",
   "execution_count": 22,
   "metadata": {},
   "outputs": [
    {
     "data": {
      "text/plain": [
       "overall                        1.000000\n",
       "reactions                      0.835449\n",
       "special                        0.794558\n",
       "composure                      0.773689\n",
       "cm                             0.762461\n",
       "rcm                            0.762461\n",
       "lcm                            0.762461\n",
       "ball_control                   0.702175\n",
       "short_passing                  0.698954\n",
       "potential                      0.670298\n",
       "rs                             0.663042\n",
       "ls                             0.663042\n",
       "st                             0.663042\n",
       "pas                            0.659460\n",
       "rm                             0.654209\n",
       "lm                             0.654209\n",
       "cam                            0.647561\n",
       "ram                            0.647561\n",
       "lam                            0.647561\n",
       "cf                             0.633769\n",
       "lf                             0.633769\n",
       "rf                             0.633769\n",
       "eur_value                      0.632730\n",
       "lwb                            0.625556\n",
       "rwb                            0.625556\n",
       "rw                             0.607506\n",
       "lw                             0.607506\n",
       "cdm                            0.604486\n",
       "rdm                            0.604486\n",
       "ldm                            0.604486\n",
       "                                 ...   \n",
       "prefers_st                    -0.006605\n",
       "prefers_rb                    -0.012107\n",
       "prefers_lb                    -0.017877\n",
       "nationality_le                -0.040233\n",
       "work_rate_def_le              -0.157912\n",
       "work_rate_att_le              -0.185839\n",
       "acrobatic_clearance_trait           NaN\n",
       "bicycle_kicks_trait                 NaN\n",
       "cautious_with_crosses_trait         NaN\n",
       "chipped_penalty_trait               NaN\n",
       "comes_for_crosses_trait             NaN\n",
       "diving_header_trait                 NaN\n",
       "driven_pass_trait                   NaN\n",
       "fancy_flicks_trait                  NaN\n",
       "flair_passes_trait                  NaN\n",
       "inflexible_trait                    NaN\n",
       "stutter_penalty_trait               NaN\n",
       "swerve_pass_trait                   NaN\n",
       "prefers_rs                          NaN\n",
       "prefers_rf                          NaN\n",
       "prefers_ram                         NaN\n",
       "prefers_rcm                         NaN\n",
       "prefers_rdm                         NaN\n",
       "prefers_rcb                         NaN\n",
       "prefers_ls                          NaN\n",
       "prefers_lf                          NaN\n",
       "prefers_lam                         NaN\n",
       "prefers_lcm                         NaN\n",
       "prefers_ldm                         NaN\n",
       "prefers_lcb                         NaN\n",
       "Name: overall, Length: 155, dtype: float64"
      ]
     },
     "execution_count": 22,
     "metadata": {},
     "output_type": "execute_result"
    }
   ],
   "source": [
    "corr = data_2.corr()\n",
    "cor_dict = corr['overall'].sort_values(ascending=False).to_dict()\n",
    "corr['overall'].sort_values(ascending=False)"
   ]
  },
  {
   "cell_type": "code",
   "execution_count": 23,
   "metadata": {},
   "outputs": [],
   "source": [
    "cor_list = []\n",
    "for k in cor_dict:\n",
    "    if cor_dict[k] > 0.5:\n",
    "        cor_list.append(k)"
   ]
  },
  {
   "cell_type": "code",
   "execution_count": 24,
   "metadata": {},
   "outputs": [
    {
     "data": {
      "text/plain": [
       "['ls',\n",
       " 'rdm',\n",
       " 'phy',\n",
       " 'long_passing',\n",
       " 'rw',\n",
       " 'rb',\n",
       " 'st',\n",
       " 'eur_wage',\n",
       " 'lcm',\n",
       " 'lw',\n",
       " 'traits_sum',\n",
       " 'pas',\n",
       " 'eur_value',\n",
       " 'lm',\n",
       " 'dri',\n",
       " 'lb',\n",
       " 'rs',\n",
       " 'shot_power',\n",
       " 'ldm',\n",
       " 'lf',\n",
       " 'short_passing',\n",
       " 'vision',\n",
       " 'rf',\n",
       " 'rcm',\n",
       " 'potential',\n",
       " 'ball_control',\n",
       " 'rwb',\n",
       " 'overall',\n",
       " 'rm',\n",
       " 'cm',\n",
       " 'lwb',\n",
       " 'international_reputation',\n",
       " 'composure',\n",
       " 'cdm',\n",
       " 'reactions',\n",
       " 'cf',\n",
       " 'ram',\n",
       " 'lam',\n",
       " 'cam',\n",
       " 'special']"
      ]
     },
     "execution_count": 24,
     "metadata": {},
     "output_type": "execute_result"
    }
   ],
   "source": [
    "cor_list"
   ]
  },
  {
   "cell_type": "code",
   "execution_count": 25,
   "metadata": {},
   "outputs": [],
   "source": [
    "data_2['bmi'] = data_2.weight_kg / (data_2.height_cm/100.0)**2"
   ]
  },
  {
   "cell_type": "code",
   "execution_count": 26,
   "metadata": {},
   "outputs": [
    {
     "data": {
      "text/plain": [
       "Normal        9150\n",
       "Lean          5779\n",
       "Stocky        1039\n",
       "Messi            1\n",
       "Shaqiri          1\n",
       "C. Ronaldo       1\n",
       "Akinfenwa        1\n",
       "Neymar           1\n",
       "Name: body_type, dtype: int64"
      ]
     },
     "execution_count": 26,
     "metadata": {},
     "output_type": "execute_result"
    }
   ],
   "source": [
    "data_2.body_type.value_counts()"
   ]
  },
  {
   "cell_type": "code",
   "execution_count": 27,
   "metadata": {},
   "outputs": [],
   "source": [
    "data_2.loc[data_2.body_type == 'Neymar', 'body_type'] = 'Lean'\n",
    "data_2.loc[data_2.body_type == 'Messi', 'body_type'] = 'Lean'\n",
    "data_2.loc[data_2.body_type == 'Shaqiri', 'body_type'] = 'Normal'\n",
    "data_2.loc[data_2.body_type == 'Akinfenwa', 'body_type'] = 'Stocky'\n",
    "data_2.loc[data_2.body_type == 'C. Ronaldo', 'body_type'] = 'Normal'"
   ]
  },
  {
   "cell_type": "code",
   "execution_count": 28,
   "metadata": {},
   "outputs": [
    {
     "data": {
      "text/plain": [
       "(15973, 162)"
      ]
     },
     "execution_count": 28,
     "metadata": {},
     "output_type": "execute_result"
    }
   ],
   "source": [
    "data_2.shape"
   ]
  },
  {
   "cell_type": "code",
   "execution_count": 29,
   "metadata": {},
   "outputs": [],
   "source": [
    "minmax = MinMaxScaler()"
   ]
  },
  {
   "cell_type": "code",
   "execution_count": 30,
   "metadata": {},
   "outputs": [],
   "source": [
    "col = [\"age\", \"height_cm\", \"weight_kg\", \"real_face\", \"eur_value\", \"eur_wage\", \"potential\", \"pac\", \"sho\", \"pas\", \"dri\", \"def\", \"phy\", \"international_reputation\", \"skill_moves\"]"
   ]
  },
  {
   "cell_type": "code",
   "execution_count": 31,
   "metadata": {},
   "outputs": [
    {
     "name": "stderr",
     "output_type": "stream",
     "text": [
      "/Users/vibhavagarwal/miniconda2/envs/deeplearning/lib/python3.5/site-packages/sklearn/preprocessing/data.py:323: DataConversionWarning: Data with input dtype int64, float64 were all converted to float64 by MinMaxScaler.\n",
      "  return self.partial_fit(X, y)\n"
     ]
    }
   ],
   "source": [
    "arr =  minmax.fit_transform(data_2[col])"
   ]
  },
  {
   "cell_type": "code",
   "execution_count": 32,
   "metadata": {},
   "outputs": [],
   "source": [
    "data_norm = pd.DataFrame(arr,columns=col,index=data_2.index)"
   ]
  },
  {
   "cell_type": "code",
   "execution_count": 33,
   "metadata": {},
   "outputs": [
    {
     "data": {
      "text/plain": [
       "(15973, 15)"
      ]
     },
     "execution_count": 33,
     "metadata": {},
     "output_type": "execute_result"
    }
   ],
   "source": [
    "data_norm.shape"
   ]
  },
  {
   "cell_type": "code",
   "execution_count": 34,
   "metadata": {},
   "outputs": [],
   "source": [
    "features_le = [\"club_le\", \"league_le\", \"body_type_le\", \"nationality_le\"]"
   ]
  },
  {
   "cell_type": "code",
   "execution_count": 35,
   "metadata": {},
   "outputs": [
    {
     "data": {
      "text/plain": [
       "((15973, 4), (15973, 15))"
      ]
     },
     "execution_count": 35,
     "metadata": {},
     "output_type": "execute_result"
    }
   ],
   "source": [
    "data_2[features_le].shape, data_norm.shape"
   ]
  },
  {
   "cell_type": "code",
   "execution_count": 36,
   "metadata": {},
   "outputs": [],
   "source": [
    "data_3 = pd.concat([data_2, data_norm], axis=1)"
   ]
  },
  {
   "cell_type": "code",
   "execution_count": 37,
   "metadata": {},
   "outputs": [
    {
     "data": {
      "text/plain": [
       "False"
      ]
     },
     "execution_count": 37,
     "metadata": {},
     "output_type": "execute_result"
    }
   ],
   "source": [
    "data_3.isnull().values.any()"
   ]
  },
  {
   "cell_type": "markdown",
   "metadata": {},
   "source": [
    "Linear Regression"
   ]
  },
  {
   "cell_type": "code",
   "execution_count": 38,
   "metadata": {},
   "outputs": [],
   "source": [
    "train, test = train_test_split(data_3, test_size=0.3, random_state=3, shuffle=True)"
   ]
  },
  {
   "cell_type": "code",
   "execution_count": 39,
   "metadata": {},
   "outputs": [],
   "source": [
    "features = [\"club_le\", \"real_face\", \"age\", \"league_le\", \"height_cm\", \"weight_kg\", \"body_type_le\", \"nationality_le\", \"eur_value\", \"eur_wage\", \"potential\", \"pac\", \"sho\", \"pas\", \"dri\", \"def\", \"phy\", \"international_reputation\", \"skill_moves\"]"
   ]
  },
  {
   "cell_type": "code",
   "execution_count": 40,
   "metadata": {},
   "outputs": [],
   "source": [
    "ytrain_ = train['overall']\n",
    "Xtrain_ = train[features]\n",
    "ytest_ = test['overall']\n",
    "Xtest_ = test[features]"
   ]
  },
  {
   "cell_type": "code",
   "execution_count": 41,
   "metadata": {},
   "outputs": [],
   "source": [
    "from sklearn.linear_model import LinearRegression\n",
    "clf = LinearRegression()"
   ]
  },
  {
   "cell_type": "code",
   "execution_count": 42,
   "metadata": {},
   "outputs": [
    {
     "data": {
      "text/plain": [
       "4.129338662956034"
      ]
     },
     "execution_count": 42,
     "metadata": {},
     "output_type": "execute_result"
    }
   ],
   "source": [
    "score = -1 * cross_val_score(clf, Xtrain_, ytrain_, scoring='neg_mean_squared_error', cv=3, n_jobs=-1)\n",
    "score.mean()"
   ]
  },
  {
   "cell_type": "code",
   "execution_count": 43,
   "metadata": {},
   "outputs": [
    {
     "data": {
      "text/plain": [
       "LinearRegression(copy_X=True, fit_intercept=True, n_jobs=None,\n",
       "         normalize=False)"
      ]
     },
     "execution_count": 43,
     "metadata": {},
     "output_type": "execute_result"
    }
   ],
   "source": [
    "clf.fit(Xtrain_, ytrain_)"
   ]
  },
  {
   "cell_type": "code",
   "execution_count": 44,
   "metadata": {},
   "outputs": [
    {
     "data": {
      "text/plain": [
       "4.286775135136312"
      ]
     },
     "execution_count": 44,
     "metadata": {},
     "output_type": "execute_result"
    }
   ],
   "source": [
    "mean_squared_error(ytest_, clf.predict(Xtest_))"
   ]
  },
  {
   "cell_type": "code",
   "execution_count": 45,
   "metadata": {},
   "outputs": [
    {
     "data": {
      "text/plain": [
       "0.909688270142354"
      ]
     },
     "execution_count": 45,
     "metadata": {},
     "output_type": "execute_result"
    }
   ],
   "source": [
    "clf.score(Xtest_, ytest_)"
   ]
  },
  {
   "cell_type": "markdown",
   "metadata": {},
   "source": [
    "Multi Regression "
   ]
  },
  {
   "cell_type": "code",
   "execution_count": 46,
   "metadata": {},
   "outputs": [],
   "source": [
    "train_, test_ = train_test_split(data_3, test_size=0.3, random_state=3, shuffle=True)"
   ]
  },
  {
   "cell_type": "code",
   "execution_count": 47,
   "metadata": {},
   "outputs": [],
   "source": [
    "y_features = [\"overall\", \"rs\", \"rw\", \"rf\", \"ram\", \"rcm\", \"rm\", \"rdm\", \"rcb\", \"rb\", \"rwb\", \"st\", \"lw\", \"cf\", \"cam\", \"cm\", \"lm\", \"cdm\", \"cb\", \"lb\", \"lwb\", \"ls\", \"lf\", \"lam\", \"lcm\", \"ldm\", \"lcb\"]"
   ]
  },
  {
   "cell_type": "code",
   "execution_count": 48,
   "metadata": {},
   "outputs": [
    {
     "data": {
      "text/plain": [
       "['club_le',\n",
       " 'real_face',\n",
       " 'age',\n",
       " 'league_le',\n",
       " 'height_cm',\n",
       " 'weight_kg',\n",
       " 'body_type_le',\n",
       " 'nationality_le',\n",
       " 'eur_value',\n",
       " 'eur_wage',\n",
       " 'potential',\n",
       " 'pac',\n",
       " 'sho',\n",
       " 'pas',\n",
       " 'dri',\n",
       " 'def',\n",
       " 'phy',\n",
       " 'international_reputation',\n",
       " 'skill_moves']"
      ]
     },
     "execution_count": 48,
     "metadata": {},
     "output_type": "execute_result"
    }
   ],
   "source": [
    "features"
   ]
  },
  {
   "cell_type": "code",
   "execution_count": 49,
   "metadata": {},
   "outputs": [],
   "source": [
    "Ytrain_ = train_[y_features]\n",
    "Xtrain1_ = train_[features]\n",
    "Ytest_ = test_[y_features]\n",
    "Xtest1_ = test_[features]"
   ]
  },
  {
   "cell_type": "code",
   "execution_count": 50,
   "metadata": {},
   "outputs": [],
   "source": [
    "from sklearn.multioutput import MultiOutputRegressor\n",
    "from sklearn.ensemble import GradientBoostingRegressor\n",
    "clf =  MultiOutputRegressor(GradientBoostingRegressor(), n_jobs=-1)"
   ]
  },
  {
   "cell_type": "code",
   "execution_count": 51,
   "metadata": {},
   "outputs": [
    {
     "data": {
      "text/plain": [
       "1.5027399095742193"
      ]
     },
     "execution_count": 51,
     "metadata": {},
     "output_type": "execute_result"
    }
   ],
   "source": [
    "score = -1 * cross_val_score(clf, Xtrain1_, Ytrain_, scoring='neg_mean_squared_error', cv=3, n_jobs=-1)\n",
    "score.mean()"
   ]
  },
  {
   "cell_type": "code",
   "execution_count": 52,
   "metadata": {},
   "outputs": [
    {
     "data": {
      "text/plain": [
       "MultiOutputRegressor(estimator=GradientBoostingRegressor(alpha=0.9, criterion='friedman_mse', init=None,\n",
       "             learning_rate=0.1, loss='ls', max_depth=3, max_features=None,\n",
       "             max_leaf_nodes=None, min_impurity_decrease=0.0,\n",
       "             min_impurity_split=None, min_samples_leaf=1,\n",
       "             min_sampl...=None, subsample=1.0, tol=0.0001,\n",
       "             validation_fraction=0.1, verbose=0, warm_start=False),\n",
       "           n_jobs=-1)"
      ]
     },
     "execution_count": 52,
     "metadata": {},
     "output_type": "execute_result"
    }
   ],
   "source": [
    "clf.fit(Xtrain1_, Ytrain_)"
   ]
  },
  {
   "cell_type": "code",
   "execution_count": 53,
   "metadata": {},
   "outputs": [
    {
     "data": {
      "text/plain": [
       "1.5053901980228064"
      ]
     },
     "execution_count": 53,
     "metadata": {},
     "output_type": "execute_result"
    }
   ],
   "source": [
    "mean_squared_error(Ytest_, clf.predict(Xtest1_))"
   ]
  },
  {
   "cell_type": "code",
   "execution_count": 54,
   "metadata": {},
   "outputs": [
    {
     "data": {
      "text/plain": [
       "0.983542338682793"
      ]
     },
     "execution_count": 54,
     "metadata": {},
     "output_type": "execute_result"
    }
   ],
   "source": [
    "clf.score(Xtest1_, Ytest_)"
   ]
  },
  {
   "cell_type": "code",
   "execution_count": 55,
   "metadata": {},
   "outputs": [
    {
     "data": {
      "text/plain": [
       "1.0963856967860508e-06"
      ]
     },
     "execution_count": 55,
     "metadata": {},
     "output_type": "execute_result"
    }
   ],
   "source": [
    "0.9835435949381863 - 0.9835424985524895"
   ]
  },
  {
   "cell_type": "markdown",
   "metadata": {},
   "source": [
    "Decision Tree regressor"
   ]
  },
  {
   "cell_type": "code",
   "execution_count": 56,
   "metadata": {},
   "outputs": [],
   "source": [
    "from sklearn.tree import DecisionTreeRegressor\n",
    "clf =  DecisionTreeRegressor()"
   ]
  },
  {
   "cell_type": "code",
   "execution_count": 57,
   "metadata": {},
   "outputs": [
    {
     "data": {
      "text/plain": [
       "5.859006846932793"
      ]
     },
     "execution_count": 57,
     "metadata": {},
     "output_type": "execute_result"
    }
   ],
   "source": [
    "score = -1 * cross_val_score(clf, Xtrain1_, Ytrain_, scoring='neg_mean_squared_error', cv=3, n_jobs=-1)\n",
    "score.mean()"
   ]
  },
  {
   "cell_type": "code",
   "execution_count": 58,
   "metadata": {},
   "outputs": [
    {
     "data": {
      "text/plain": [
       "DecisionTreeRegressor(criterion='mse', max_depth=None, max_features=None,\n",
       "           max_leaf_nodes=None, min_impurity_decrease=0.0,\n",
       "           min_impurity_split=None, min_samples_leaf=1,\n",
       "           min_samples_split=2, min_weight_fraction_leaf=0.0,\n",
       "           presort=False, random_state=None, splitter='best')"
      ]
     },
     "execution_count": 58,
     "metadata": {},
     "output_type": "execute_result"
    }
   ],
   "source": [
    "clf.fit(Xtrain1_, Ytrain_)"
   ]
  },
  {
   "cell_type": "code",
   "execution_count": 59,
   "metadata": {},
   "outputs": [
    {
     "data": {
      "text/plain": [
       "5.390496506523217"
      ]
     },
     "execution_count": 59,
     "metadata": {},
     "output_type": "execute_result"
    }
   ],
   "source": [
    "mean_squared_error(Ytest_, clf.predict(Xtest1_))"
   ]
  },
  {
   "cell_type": "code",
   "execution_count": 60,
   "metadata": {},
   "outputs": [
    {
     "data": {
      "text/plain": [
       "0.9442476916791369"
      ]
     },
     "execution_count": 60,
     "metadata": {},
     "output_type": "execute_result"
    }
   ],
   "source": [
    "clf.score(Xtest1_, Ytest_)"
   ]
  },
  {
   "cell_type": "code",
   "execution_count": 61,
   "metadata": {},
   "outputs": [
    {
     "data": {
      "text/plain": [
       "0.00040704451392481467"
      ]
     },
     "execution_count": 61,
     "metadata": {},
     "output_type": "execute_result"
    }
   ],
   "source": [
    "0.9429068109492516 - 0.9424997664353267"
   ]
  },
  {
   "cell_type": "markdown",
   "metadata": {},
   "source": [
    "Multi Output RandomForest"
   ]
  },
  {
   "cell_type": "code",
   "execution_count": 62,
   "metadata": {},
   "outputs": [],
   "source": [
    "from sklearn.ensemble import RandomForestRegressor\n",
    "clf = RandomForestRegressor(n_jobs=-1, n_estimators=500, max_depth=15)"
   ]
  },
  {
   "cell_type": "code",
   "execution_count": 63,
   "metadata": {},
   "outputs": [
    {
     "data": {
      "text/plain": [
       "2.197770571183533"
      ]
     },
     "execution_count": 63,
     "metadata": {},
     "output_type": "execute_result"
    }
   ],
   "source": [
    "score = -1 * cross_val_score(clf, Xtrain1_, Ytrain_, scoring='neg_mean_squared_error', cv=3, n_jobs=-1)\n",
    "score.mean()"
   ]
  },
  {
   "cell_type": "code",
   "execution_count": 64,
   "metadata": {},
   "outputs": [
    {
     "data": {
      "text/plain": [
       "RandomForestRegressor(bootstrap=True, criterion='mse', max_depth=15,\n",
       "           max_features='auto', max_leaf_nodes=None,\n",
       "           min_impurity_decrease=0.0, min_impurity_split=None,\n",
       "           min_samples_leaf=1, min_samples_split=2,\n",
       "           min_weight_fraction_leaf=0.0, n_estimators=500, n_jobs=-1,\n",
       "           oob_score=False, random_state=None, verbose=0, warm_start=False)"
      ]
     },
     "execution_count": 64,
     "metadata": {},
     "output_type": "execute_result"
    }
   ],
   "source": [
    "clf.fit(Xtrain1_, Ytrain_)"
   ]
  },
  {
   "cell_type": "code",
   "execution_count": 65,
   "metadata": {},
   "outputs": [
    {
     "data": {
      "text/plain": [
       "2.030893285608395"
      ]
     },
     "execution_count": 65,
     "metadata": {},
     "output_type": "execute_result"
    }
   ],
   "source": [
    "mean_squared_error(Ytest_, clf.predict(Xtest1_))"
   ]
  },
  {
   "cell_type": "code",
   "execution_count": 66,
   "metadata": {},
   "outputs": [
    {
     "data": {
      "text/plain": [
       "0.9789950724411024"
      ]
     },
     "execution_count": 66,
     "metadata": {},
     "output_type": "execute_result"
    }
   ],
   "source": [
    "clf.score(Xtest1_, Ytest_)"
   ]
  },
  {
   "cell_type": "markdown",
   "metadata": {},
   "source": [
    "PCA"
   ]
  },
  {
   "cell_type": "code",
   "execution_count": 67,
   "metadata": {},
   "outputs": [],
   "source": [
    "string_features = ['club', 'league', 'body_type', 'nationality', 'work_rate_att', 'work_rate_def']"
   ]
  },
  {
   "cell_type": "code",
   "execution_count": 68,
   "metadata": {},
   "outputs": [],
   "source": [
    "train_, test_ = train_test_split(data_3, test_size=0.3, random_state=3, shuffle=True)"
   ]
  },
  {
   "cell_type": "code",
   "execution_count": 69,
   "metadata": {},
   "outputs": [],
   "source": [
    "Xtrain2_ = train_[[item for item in list(data_3.columns) if item not in ['overall']+string_features]]\n",
    "Xtest2_ = test_[[item for item in list(data_3.columns) if item not in ['overall']+string_features]]"
   ]
  },
  {
   "cell_type": "code",
   "execution_count": 70,
   "metadata": {},
   "outputs": [],
   "source": [
    "from sklearn.decomposition import PCA\n",
    "clf = PCA(n_components=100)"
   ]
  },
  {
   "cell_type": "code",
   "execution_count": 71,
   "metadata": {},
   "outputs": [
    {
     "data": {
      "text/plain": [
       "PCA(copy=True, iterated_power='auto', n_components=100, random_state=None,\n",
       "  svd_solver='auto', tol=0.0, whiten=False)"
      ]
     },
     "execution_count": 71,
     "metadata": {},
     "output_type": "execute_result"
    }
   ],
   "source": [
    "clf.fit(Xtrain2_, Ytrain_)"
   ]
  },
  {
   "cell_type": "code",
   "execution_count": 72,
   "metadata": {},
   "outputs": [],
   "source": [
    "Xtest_pca = clf.transform(Xtest2_)"
   ]
  },
  {
   "cell_type": "code",
   "execution_count": 73,
   "metadata": {},
   "outputs": [],
   "source": [
    "Xtrain_pca = clf.transform(Xtrain2_)"
   ]
  },
  {
   "cell_type": "code",
   "execution_count": 74,
   "metadata": {},
   "outputs": [
    {
     "data": {
      "text/plain": [
       "((11181, 100), (11181, 34))"
      ]
     },
     "execution_count": 74,
     "metadata": {},
     "output_type": "execute_result"
    }
   ],
   "source": [
    "Xtrain_pca.shape, Xtrain1_.shape"
   ]
  },
  {
   "cell_type": "code",
   "execution_count": 75,
   "metadata": {},
   "outputs": [],
   "source": [
    "clf =  MultiOutputRegressor(GradientBoostingRegressor(), n_jobs=-1)"
   ]
  },
  {
   "cell_type": "code",
   "execution_count": 76,
   "metadata": {},
   "outputs": [
    {
     "data": {
      "text/plain": [
       "MultiOutputRegressor(estimator=GradientBoostingRegressor(alpha=0.9, criterion='friedman_mse', init=None,\n",
       "             learning_rate=0.1, loss='ls', max_depth=3, max_features=None,\n",
       "             max_leaf_nodes=None, min_impurity_decrease=0.0,\n",
       "             min_impurity_split=None, min_samples_leaf=1,\n",
       "             min_sampl...=None, subsample=1.0, tol=0.0001,\n",
       "             validation_fraction=0.1, verbose=0, warm_start=False),\n",
       "           n_jobs=-1)"
      ]
     },
     "execution_count": 76,
     "metadata": {},
     "output_type": "execute_result"
    }
   ],
   "source": [
    "clf.fit(Xtrain_pca, Ytrain_)"
   ]
  },
  {
   "cell_type": "code",
   "execution_count": 77,
   "metadata": {},
   "outputs": [
    {
     "data": {
      "text/plain": [
       "0.9798937807832947"
      ]
     },
     "execution_count": 77,
     "metadata": {},
     "output_type": "execute_result"
    }
   ],
   "source": [
    "clf.score(Xtest_pca, Ytest_)"
   ]
  },
  {
   "cell_type": "code",
   "execution_count": null,
   "metadata": {},
   "outputs": [],
   "source": []
  },
  {
   "cell_type": "markdown",
   "metadata": {},
   "source": [
    "Visualization"
   ]
  },
  {
   "cell_type": "code",
   "execution_count": 82,
   "metadata": {},
   "outputs": [],
   "source": [
    "attributes = [\"age\", \"height_cm\", \"weight_kg\", \"real_face\", \"eur_value\", \"eur_wage\", \"potential\", \"pac\", \n",
    "              \"sho\", \"pas\", \"dri\", \"def\", \"phy\", \"international_reputation\", \"skill_moves\"]\n",
    "\n",
    "positions = ['rs', 'rw', 'rf', 'ram', 'rcm', 'rm', 'rdm', 'rcb', 'rb', 'rwb', 'st', 'lw',\n",
    "             'cf', 'cam', 'cm', 'lm', 'cdm', 'cb', 'lb', 'lwb', 'ls', 'lf', 'lam', 'lcm',\n",
    "             'ldm', 'lcb']\n",
    "\n",
    "cols_pref = [x for x in data_2.columns if 'prefers' in x]\n",
    "data_norm_prefs = data_2.loc[:, cols_pref]\n",
    "\n",
    "y = data_norm_prefs.sum().sort_values(ascending=False)\n",
    "x = np.arange(1, len(y) + 1)\n",
    "cols_inc = [x for x in data_norm.columns]\n",
    "cols_incl = [x for x in y.index if y[x] > 0]\n",
    "data_norm_prefs = data_2.loc[:, cols_incl]\n",
    "data_norm_att = data_norm.loc[:, attributes].applymap(lambda x: x)\n",
    "data_norm_att = data_norm_att.loc[data_norm_att.sum(axis=1) > 0, cols_inc]\n",
    "data_norm_att = data_norm_att.apply(lambda x: (x))\n",
    "\n",
    "\n",
    "data_norm_prefs = data_norm_prefs.drop(columns = ['prefers_pos_sum'])"
   ]
  },
  {
   "cell_type": "code",
   "execution_count": 83,
   "metadata": {},
   "outputs": [
    {
     "name": "stderr",
     "output_type": "stream",
     "text": [
      "/Users/vibhavagarwal/miniconda2/envs/deeplearning/lib/python3.5/site-packages/sklearn/ensemble/forest.py:248: FutureWarning: The default value of n_estimators will change from 10 in version 0.20 to 100 in 0.22.\n",
      "  \"10 in version 0.20 to 100 in 0.22.\", FutureWarning)\n",
      "/Users/vibhavagarwal/miniconda2/envs/deeplearning/lib/python3.5/site-packages/sklearn/ensemble/forest.py:248: FutureWarning: The default value of n_estimators will change from 10 in version 0.20 to 100 in 0.22.\n",
      "  \"10 in version 0.20 to 100 in 0.22.\", FutureWarning)\n",
      "/Users/vibhavagarwal/miniconda2/envs/deeplearning/lib/python3.5/site-packages/sklearn/ensemble/forest.py:248: FutureWarning: The default value of n_estimators will change from 10 in version 0.20 to 100 in 0.22.\n",
      "  \"10 in version 0.20 to 100 in 0.22.\", FutureWarning)\n",
      "/Users/vibhavagarwal/miniconda2/envs/deeplearning/lib/python3.5/site-packages/sklearn/ensemble/forest.py:248: FutureWarning: The default value of n_estimators will change from 10 in version 0.20 to 100 in 0.22.\n",
      "  \"10 in version 0.20 to 100 in 0.22.\", FutureWarning)\n",
      "/Users/vibhavagarwal/miniconda2/envs/deeplearning/lib/python3.5/site-packages/sklearn/ensemble/forest.py:248: FutureWarning: The default value of n_estimators will change from 10 in version 0.20 to 100 in 0.22.\n",
      "  \"10 in version 0.20 to 100 in 0.22.\", FutureWarning)\n",
      "/Users/vibhavagarwal/miniconda2/envs/deeplearning/lib/python3.5/site-packages/sklearn/ensemble/forest.py:248: FutureWarning: The default value of n_estimators will change from 10 in version 0.20 to 100 in 0.22.\n",
      "  \"10 in version 0.20 to 100 in 0.22.\", FutureWarning)\n",
      "/Users/vibhavagarwal/miniconda2/envs/deeplearning/lib/python3.5/site-packages/sklearn/ensemble/forest.py:248: FutureWarning: The default value of n_estimators will change from 10 in version 0.20 to 100 in 0.22.\n",
      "  \"10 in version 0.20 to 100 in 0.22.\", FutureWarning)\n",
      "/Users/vibhavagarwal/miniconda2/envs/deeplearning/lib/python3.5/site-packages/sklearn/ensemble/forest.py:248: FutureWarning: The default value of n_estimators will change from 10 in version 0.20 to 100 in 0.22.\n",
      "  \"10 in version 0.20 to 100 in 0.22.\", FutureWarning)\n",
      "/Users/vibhavagarwal/miniconda2/envs/deeplearning/lib/python3.5/site-packages/sklearn/ensemble/forest.py:248: FutureWarning: The default value of n_estimators will change from 10 in version 0.20 to 100 in 0.22.\n",
      "  \"10 in version 0.20 to 100 in 0.22.\", FutureWarning)\n",
      "/Users/vibhavagarwal/miniconda2/envs/deeplearning/lib/python3.5/site-packages/sklearn/ensemble/forest.py:248: FutureWarning: The default value of n_estimators will change from 10 in version 0.20 to 100 in 0.22.\n",
      "  \"10 in version 0.20 to 100 in 0.22.\", FutureWarning)\n",
      "/Users/vibhavagarwal/miniconda2/envs/deeplearning/lib/python3.5/site-packages/sklearn/ensemble/forest.py:248: FutureWarning: The default value of n_estimators will change from 10 in version 0.20 to 100 in 0.22.\n",
      "  \"10 in version 0.20 to 100 in 0.22.\", FutureWarning)\n",
      "/Users/vibhavagarwal/miniconda2/envs/deeplearning/lib/python3.5/site-packages/sklearn/ensemble/forest.py:248: FutureWarning: The default value of n_estimators will change from 10 in version 0.20 to 100 in 0.22.\n",
      "  \"10 in version 0.20 to 100 in 0.22.\", FutureWarning)\n",
      "/Users/vibhavagarwal/miniconda2/envs/deeplearning/lib/python3.5/site-packages/sklearn/ensemble/forest.py:248: FutureWarning: The default value of n_estimators will change from 10 in version 0.20 to 100 in 0.22.\n",
      "  \"10 in version 0.20 to 100 in 0.22.\", FutureWarning)\n",
      "/Users/vibhavagarwal/miniconda2/envs/deeplearning/lib/python3.5/site-packages/sklearn/ensemble/forest.py:248: FutureWarning: The default value of n_estimators will change from 10 in version 0.20 to 100 in 0.22.\n",
      "  \"10 in version 0.20 to 100 in 0.22.\", FutureWarning)\n"
     ]
    },
    {
     "data": {
      "text/plain": [
       "<matplotlib.legend.Legend at 0x1ab7893ac8>"
      ]
     },
     "execution_count": 83,
     "metadata": {},
     "output_type": "execute_result"
    },
    {
     "data": {
      "image/png": "[encoded data removed]",
      "text/plain": [
       "<Figure size 1080x720 with 1 Axes>"
      ]
     },
     "metadata": {
      "needs_background": "light"
     },
     "output_type": "display_data"
    }
   ],
   "source": [
    "from sklearn.multiclass import OneVsRestClassifier\n",
    "from sklearn.ensemble import RandomForestClassifier\n",
    "\n",
    "clf = RandomForestClassifier()\n",
    "mclf = OneVsRestClassifier(clf)\n",
    "\n",
    "mclf.fit(data_norm_att, data_norm_prefs)\n",
    "\n",
    "feat_imp = pd.DataFrame()\n",
    "feat_imp_sum = np.zeros(len(data_norm_prefs.columns))\n",
    "\n",
    "fig, ax = plt.subplots(1,1, figsize=(15, 10))\n",
    "\n",
    "x = 1\n",
    "for l, e in zip(data_norm_prefs.columns, mclf.estimators_):\n",
    "    feat_imp.loc[:, l] = e.feature_importances_\n",
    "\n",
    "colors = np.concatenate((plt.cm.tab20(np.linspace(0, 1, 20)), plt.cm.Set3(np.linspace(0, 1, 10))))\n",
    "x = np.arange(1, len(feat_imp.columns) + 1)\n",
    "y = np.zeros(len(feat_imp.columns))\n",
    "for n in range(0, len(feat_imp.index)):\n",
    "    ax.bar(x, feat_imp.loc[n, :], bottom=y, label=data_norm_att.columns[n], color=colors[n])\n",
    "    y += feat_imp.loc[n, :]\n",
    "\n",
    "ax.set_xticks(x)\n",
    "ax.set_xticklabels(positions,rotation = 45, ha=\"right\")\n",
    "ax.legend(bbox_to_anchor=(1.02,1), loc=\"upper left\")"
   ]
  },
  {
   "cell_type": "code",
   "execution_count": 84,
   "metadata": {},
   "outputs": [
    {
     "data": {
      "text/plain": [
       "<Figure size 432x288 with 0 Axes>"
      ]
     },
     "metadata": {},
     "output_type": "display_data"
    },
    {
     "data": {
      "image/png": "[encoded data removed]",
      "text/plain": [
       "<Figure size 1152x576 with 1 Axes>"
      ]
     },
     "metadata": {
      "needs_background": "light"
     },
     "output_type": "display_data"
    }
   ],
   "source": [
    "import seaborn as sns\n",
    "dataset40 = data_1.loc[data_1['age'] <= data_1.age.max()]\n",
    "age = dataset40.sort_values(\"age\")['age'].unique()\n",
    "overall = dataset40.groupby(\"age\")[\"overall\"].mean().values\n",
    "potential = dataset40.groupby(\"age\")[\"potential\"].mean().values\n",
    "\n",
    "plt.figure()\n",
    "plt.figure(figsize=(16,8))\n",
    "plt.title('Age vs Mean Overall/Potential Rating', fontsize=20, fontweight='bold')\n",
    "plt.xlabel('Player Age', fontsize=15)\n",
    "plt.ylabel('Player Overall', fontsize=15)\n",
    "sns.set_style(\"whitegrid\")\n",
    "plt.plot(age, overall, label=\"Overall\")\n",
    "plt.plot(age, potential, label=\"Potential\")\n",
    "plt.legend(loc=4, prop={'size': 15}, frameon=True,shadow=True, facecolor=\"white\", edgecolor=\"black\")\n",
    "plt.show()"
   ]
  },
  {
   "cell_type": "code",
   "execution_count": 86,
   "metadata": {},
   "outputs": [
    {
     "data": {
      "image/png": "[encoded data removed]",
      "text/plain": [
       "<Figure size 1440x1080 with 20 Axes>"
      ]
     },
     "metadata": {},
     "output_type": "display_data"
    }
   ],
   "source": [
    "data_2[features].hist(bins=50, figsize=(20,15))\n",
    "plt.show()"
   ]
  },
  {
   "cell_type": "code",
   "execution_count": null,
   "metadata": {},
   "outputs": [],
   "source": []
  }
 ],
 "metadata": {
  "kernelspec": {
   "display_name": "Python 3",
   "language": "python",
   "name": "python3"
  },
  "language_info": {
   "codemirror_mode": {
    "name": "ipython",
    "version": 3
   },
   "file_extension": ".py",
   "mimetype": "text/x-python",
   "name": "python",
   "nbconvert_exporter": "python",
   "pygments_lexer": "ipython3",
   "version": "3.5.6"
  }
 },
 "nbformat": 4,
 "nbformat_minor": 2
}
